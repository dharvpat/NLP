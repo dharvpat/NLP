{
 "cells": [
  {
   "cell_type": "code",
   "execution_count": null,
   "metadata": {},
   "outputs": [],
   "source": [
    "import re\n",
    "import numpy as np\n",
    "import math\n",
    "from collections import defaultdict"
   ]
  },
  {
   "cell_type": "code",
   "execution_count": null,
   "metadata": {},
   "outputs": [],
   "source": [
    "class NaiveBayesWSD:\n",
    "    def __init__(self):\n",
    "        self.priors = defaultdict(float)\n",
    "        self.word_counts = defaultdict(lambda: defaultdict(float))\n",
    "        self.sense_counts = defaultdict(float)\n",
    "\n",
    "    def train(self, training_data):\n",
    "        for context, sense in training_data:\n",
    "            self.sense_counts[sense] += 1\n",
    "            words = re.findall(r'\\w+', context.lower())\n",
    "            for word in words:\n",
    "                self.word_counts[word][sense] += 1\n",
    "\n",
    "        total_examples = len(training_data)\n",
    "        for sense in self.sense_counts:\n",
    "            self.priors[sense] = self.sense_counts[sense] / total_examples\n",
    "\n",
    "    def classify(self, context):\n",
    "        words = re.findall(r'\\w+', context.lower())\n",
    "        sense_probabilities = {}\n",
    "        for sense in self.sense_counts:\n",
    "            sense_prob = math.log(self.priors[sense])\n",
    "            for word in words:\n",
    "                if word in self.word_counts:\n",
    "                    word_sense_count = self.word_counts[word][sense]\n",
    "                    word_total_count = sum(self.word_counts[word].values())\n",
    "                    prob = (word_sense_count + 1) / (word_total_count + len(self.sense_counts))\n",
    "                    sense_prob += math.log(prob)\n",
    "            sense_probabilities[sense] = sense_prob\n",
    "        return max(sense_probabilities, key=sense_probabilities.get)"
   ]
  },
  {
   "cell_type": "code",
   "execution_count": null,
   "metadata": {},
   "outputs": [],
   "source": [
    "def convert_to_list_of_words(character_list):\n",
    "    word_list = ['']\n",
    "    inside_brackets = False\n",
    "\n",
    "    for char in character_list:\n",
    "        if char == '<':\n",
    "            inside_brackets = True\n",
    "            if word_list[-1] != '':\n",
    "                word_list.append('')\n",
    "        elif char == '>':\n",
    "            inside_brackets = False\n",
    "            if word_list[-1] != '':\n",
    "                word_list.append('')\n",
    "        elif char == '\\n':\n",
    "            continue  # Ignore new line characters\n",
    "        else:\n",
    "            if inside_brackets:\n",
    "                word_list[-1] += char\n",
    "            else:\n",
    "                if char == ' ':\n",
    "                    if word_list[-1] != '':\n",
    "                        word_list.append('')\n",
    "                else:\n",
    "                    word_list[-1] += char\n",
    "\n",
    "    return [word for word in word_list if word != '']"
   ]
  },
  {
   "cell_type": "code",
   "execution_count": null,
   "metadata": {},
   "outputs": [],
   "source": [
    "def clump_context_words(word_list):\n",
    "    clumped_list = []\n",
    "    inside_context = False\n",
    "    current_context = []\n",
    "\n",
    "    for word in word_list:\n",
    "        if word == 'context':\n",
    "            if inside_context:\n",
    "                current_context = []  # Start a new context block\n",
    "            inside_context = True\n",
    "        elif word == '/context':\n",
    "            if inside_context:\n",
    "                clumped_list.append(\" \".join(current_context))\n",
    "                current_context = []\n",
    "                inside_context = False\n",
    "        elif inside_context:\n",
    "            current_context.append(word)\n",
    "        else:\n",
    "            clumped_list.append(word)\n",
    "\n",
    "    return clumped_list\n"
   ]
  },
  {
   "cell_type": "code",
   "execution_count": null,
   "metadata": {},
   "outputs": [],
   "source": [
    "def organize_instances(word_list):\n",
    "    organized_list = []\n",
    "    current_instance = []\n",
    "\n",
    "    for word in word_list:\n",
    "        if word == 'instance':\n",
    "            current_instance = []\n",
    "        elif word == '/instance':\n",
    "            if current_instance:\n",
    "                organized_list.append(current_instance)\n",
    "                current_instance = []\n",
    "        elif current_instance is not None:\n",
    "            current_instance.append(word)\n",
    "\n",
    "    return organized_list\n"
   ]
  },
  {
   "cell_type": "code",
   "execution_count": null,
   "metadata": {},
   "outputs": [],
   "source": [
    "def pre_process(text):\n",
    "    character_list = text\n",
    "    word_list = convert_to_list_of_words(character_list)\n",
    "    clumped_list = clump_context_words(word_list)\n",
    "    organized_list = organize_instances(clumped_list)\n",
    "    input_data = []\n",
    "    for i in range(len(organized_list)):\n",
    "        context = organized_list[i][2]\n",
    "        context = context.split()\n",
    "        simplified_context = []\n",
    "        for word in context:\n",
    "            if word == 'head' or word == '/head':\n",
    "                pass\n",
    "            else:\n",
    "                simplified_context.append(word)\n",
    "        final_context = ' '.join(simplified_context)\n",
    "        sense = organized_list[i][1]\n",
    "        words_sense = sense.split()\n",
    "        sense_id = words_sense[2][:-2]\n",
    "        sense_id = sense_id[9:]\n",
    "        tuple = (final_context, sense_id)\n",
    "        input_data.append(tuple)\n",
    "    return input_data"
   ]
  },
  {
   "cell_type": "code",
   "execution_count": null,
   "metadata": {},
   "outputs": [],
   "source": [
    "import re\n",
    "import math\n",
    "from collections import defaultdict\n",
    "filename = 'plant.wsd'"
   ]
  },
  {
   "cell_type": "code",
   "execution_count": null,
   "metadata": {},
   "outputs": [],
   "source": [
    "filename = 'plant.wsd'\n",
    "text = open(filename, 'r').read()\n",
    "input_data = pre_process(text)"
   ]
  },
  {
   "cell_type": "code",
   "execution_count": null,
   "metadata": {},
   "outputs": [],
   "source": [
    "wsd = NaiveBayesWSD()\n",
    "wsd.train(input_data)"
   ]
  },
  {
   "cell_type": "code",
   "execution_count": null,
   "metadata": {},
   "outputs": [],
   "source": [
    "def divide_data_into_folds(data, num_folds):\n",
    "    fold_size = len(data) // num_folds\n",
    "    folds = []\n",
    "    for i in range(num_folds):\n",
    "        start = i * fold_size\n",
    "        end = start + fold_size\n",
    "        if i == num_folds - 1:\n",
    "            end = len(data)\n",
    "        folds.append(data[start:end])\n",
    "    return folds"
   ]
  },
  {
   "cell_type": "code",
   "execution_count": null,
   "metadata": {},
   "outputs": [],
   "source": [
    "text = open('plant.wsd', 'r').read()"
   ]
  },
  {
   "cell_type": "code",
   "execution_count": null,
   "metadata": {},
   "outputs": [],
   "source": [
    "print(pre_process(text)[0])"
   ]
  },
  {
   "cell_type": "code",
   "execution_count": null,
   "metadata": {},
   "outputs": [],
   "source": [
    "num_folds = 5\n",
    "folds = divide_data_into_folds(training_data, num_folds)\n",
    "test_data = training_data\n",
    "print(training_data)\n",
    "accuracy_list = []\n",
    "\n",
    "for i in range(num_folds):\n",
    "    # Use one fold as the test data and the rest as training data\n",
    "    test_data = folds[i]\n",
    "    training_data = [fold for j, fold in enumerate(folds) if j != i for fold in folds]\n",
    "\n",
    "    nb_wsd = NaiveBayesWSD()\n",
    "    nb_wsd.train(training_data)\n",
    "\n",
    "    correct_predictions = 0\n",
    "    total_predictions = len(test_data)\n",
    "\n",
    "    for context, sense in test_data:\n",
    "        predicted_sense = nb_wsd.classify(context)\n",
    "        if predicted_sense == sense:\n",
    "            correct_predictions += 1\n",
    "\n",
    "    accuracy = correct_predictions / total_predictions\n",
    "    accuracy_list.append(accuracy)\n",
    "\n",
    "    print(f\"Fold {i + 1} Accuracy: {accuracy:.2%}\")\n",
    "\n",
    "average_accuracy = sum(accuracy_list) / num_folds\n",
    "print(f\"Average Accuracy: {average_accuracy:.2%}\")"
   ]
  }
 ],
 "metadata": {
  "kernelspec": {
   "display_name": "Python 3",
   "language": "python",
   "name": "python3"
  },
  "language_info": {
   "codemirror_mode": {
    "name": "ipython",
    "version": 3
   },
   "file_extension": ".py",
   "mimetype": "text/x-python",
   "name": "python",
   "nbconvert_exporter": "python",
   "pygments_lexer": "ipython3",
   "version": "3.9.6"
  }
 },
 "nbformat": 4,
 "nbformat_minor": 2
}
